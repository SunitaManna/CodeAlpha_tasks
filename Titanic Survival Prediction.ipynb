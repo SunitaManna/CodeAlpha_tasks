{
 "cells": [
  {
   "cell_type": "markdown",
   "id": "68a61371-9b65-4ccf-a30e-299bc5ef3988",
   "metadata": {},
   "source": [
    "## About the dataset"
   ]
  },
  {
   "cell_type": "markdown",
   "id": "a97a5b00-fc85-4642-8d9b-fd896e7f4a4c",
   "metadata": {},
   "source": [
    "*This data is from Kaggle and has information about people on the Titanic ship. The goal is to guess if passengers \n",
    "survived or not using certain details about them. In this 1 indicates that the passenger survived.*\n",
    "\n",
    "_Dataset consists of following variables:_\n",
    "\n",
    "* PassengerId : PassengerId\n",
    "* Survived: Weather Survived or not: 0 = No, 1 = Yes\n",
    "* Pclass: Ticket class: 1 = 1st, 2 = 2nd, 3 = 3rd\n",
    "* Name : Name of the Passenger\n",
    "* Sex : Gender\n",
    "* Age : Age in Years\n",
    "* SibSp : No. of siblings / spouses aboard the Titanic\n",
    "* Parch : No. of parents / children aboard the Titanic\n",
    "* Ticket: Ticket number\n",
    "* Fare : Passenger fare\n",
    "* Cabin : Cabin number\n",
    "* Embarked : Port of Embarkation:C = Cherbourg, Q = Queenstown, S = Southampton"
   ]
  },
  {
   "cell_type": "markdown",
   "id": "8a6e7ea2-5080-4f46-aee2-b52a80f46636",
   "metadata": {},
   "source": [
    "*Dataset Link*: https://www.kaggle.com/datasets/yasserh/titanic-dataset"
   ]
  },
  {
   "cell_type": "markdown",
   "id": "597a50be-d8ad-498a-b98b-fd70d05026ef",
   "metadata": {},
   "source": [
    "## Problem Statement"
   ]
  },
  {
   "cell_type": "markdown",
   "id": "5f00f554-c3bd-4070-ba1e-3d95c1c7dcd8",
   "metadata": {},
   "source": [
    "*To predict Survival and Non-Survival of Passengers*"
   ]
  },
  {
   "cell_type": "markdown",
   "id": "f8a42237-91ac-4f1f-8c28-cf5441573fb8",
   "metadata": {},
   "source": [
    "## Importing all necessary Libraries for Data Analysis"
   ]
  },
  {
   "cell_type": "code",
   "execution_count": 1,
   "id": "4643b3b0-bcbf-4e66-aec5-0630146e0f43",
   "metadata": {},
   "outputs": [],
   "source": [
    "import numpy as np\n",
    "import pandas as pd\n",
    "import matplotlib.pyplot as plt\n",
    "import seaborn as sns\n",
    "import warnings\n",
    "warnings.filterwarnings(\"ignore\")"
   ]
  },
  {
   "cell_type": "markdown",
   "id": "1eb8b173-0bab-4577-bf3a-4631b2d02a30",
   "metadata": {},
   "source": [
    "## Data Collection and Processing"
   ]
  },
  {
   "cell_type": "code",
   "execution_count": 2,
   "id": "3179db67-c2b5-4645-8b09-fdf38127b7d7",
   "metadata": {},
   "outputs": [
    {
     "data": {
      "text/html": [
       "<div>\n",
       "<style scoped>\n",
       "    .dataframe tbody tr th:only-of-type {\n",
       "        vertical-align: middle;\n",
       "    }\n",
       "\n",
       "    .dataframe tbody tr th {\n",
       "        vertical-align: top;\n",
       "    }\n",
       "\n",
       "    .dataframe thead th {\n",
       "        text-align: right;\n",
       "    }\n",
       "</style>\n",
       "<table border=\"1\" class=\"dataframe\">\n",
       "  <thead>\n",
       "    <tr style=\"text-align: right;\">\n",
       "      <th></th>\n",
       "      <th>PassengerId</th>\n",
       "      <th>Survived</th>\n",
       "      <th>Pclass</th>\n",
       "      <th>Name</th>\n",
       "      <th>Sex</th>\n",
       "      <th>Age</th>\n",
       "      <th>SibSp</th>\n",
       "      <th>Parch</th>\n",
       "      <th>Ticket</th>\n",
       "      <th>Fare</th>\n",
       "      <th>Cabin</th>\n",
       "      <th>Embarked</th>\n",
       "    </tr>\n",
       "  </thead>\n",
       "  <tbody>\n",
       "    <tr>\n",
       "      <th>0</th>\n",
       "      <td>1</td>\n",
       "      <td>0</td>\n",
       "      <td>3</td>\n",
       "      <td>Braund, Mr. Owen Harris</td>\n",
       "      <td>male</td>\n",
       "      <td>22.0</td>\n",
       "      <td>1</td>\n",
       "      <td>0</td>\n",
       "      <td>A/5 21171</td>\n",
       "      <td>7.2500</td>\n",
       "      <td>NaN</td>\n",
       "      <td>S</td>\n",
       "    </tr>\n",
       "    <tr>\n",
       "      <th>1</th>\n",
       "      <td>2</td>\n",
       "      <td>1</td>\n",
       "      <td>1</td>\n",
       "      <td>Cumings, Mrs. John Bradley (Florence Briggs Th...</td>\n",
       "      <td>female</td>\n",
       "      <td>38.0</td>\n",
       "      <td>1</td>\n",
       "      <td>0</td>\n",
       "      <td>PC 17599</td>\n",
       "      <td>71.2833</td>\n",
       "      <td>C85</td>\n",
       "      <td>C</td>\n",
       "    </tr>\n",
       "    <tr>\n",
       "      <th>2</th>\n",
       "      <td>3</td>\n",
       "      <td>1</td>\n",
       "      <td>3</td>\n",
       "      <td>Heikkinen, Miss. Laina</td>\n",
       "      <td>female</td>\n",
       "      <td>26.0</td>\n",
       "      <td>0</td>\n",
       "      <td>0</td>\n",
       "      <td>STON/O2. 3101282</td>\n",
       "      <td>7.9250</td>\n",
       "      <td>NaN</td>\n",
       "      <td>S</td>\n",
       "    </tr>\n",
       "    <tr>\n",
       "      <th>3</th>\n",
       "      <td>4</td>\n",
       "      <td>1</td>\n",
       "      <td>1</td>\n",
       "      <td>Futrelle, Mrs. Jacques Heath (Lily May Peel)</td>\n",
       "      <td>female</td>\n",
       "      <td>35.0</td>\n",
       "      <td>1</td>\n",
       "      <td>0</td>\n",
       "      <td>113803</td>\n",
       "      <td>53.1000</td>\n",
       "      <td>C123</td>\n",
       "      <td>S</td>\n",
       "    </tr>\n",
       "    <tr>\n",
       "      <th>4</th>\n",
       "      <td>5</td>\n",
       "      <td>0</td>\n",
       "      <td>3</td>\n",
       "      <td>Allen, Mr. William Henry</td>\n",
       "      <td>male</td>\n",
       "      <td>35.0</td>\n",
       "      <td>0</td>\n",
       "      <td>0</td>\n",
       "      <td>373450</td>\n",
       "      <td>8.0500</td>\n",
       "      <td>NaN</td>\n",
       "      <td>S</td>\n",
       "    </tr>\n",
       "  </tbody>\n",
       "</table>\n",
       "</div>"
      ],
      "text/plain": [
       "   PassengerId  Survived  Pclass  \\\n",
       "0            1         0       3   \n",
       "1            2         1       1   \n",
       "2            3         1       3   \n",
       "3            4         1       1   \n",
       "4            5         0       3   \n",
       "\n",
       "                                                Name     Sex   Age  SibSp  \\\n",
       "0                            Braund, Mr. Owen Harris    male  22.0      1   \n",
       "1  Cumings, Mrs. John Bradley (Florence Briggs Th...  female  38.0      1   \n",
       "2                             Heikkinen, Miss. Laina  female  26.0      0   \n",
       "3       Futrelle, Mrs. Jacques Heath (Lily May Peel)  female  35.0      1   \n",
       "4                           Allen, Mr. William Henry    male  35.0      0   \n",
       "\n",
       "   Parch            Ticket     Fare Cabin Embarked  \n",
       "0      0         A/5 21171   7.2500   NaN        S  \n",
       "1      0          PC 17599  71.2833   C85        C  \n",
       "2      0  STON/O2. 3101282   7.9250   NaN        S  \n",
       "3      0            113803  53.1000  C123        S  \n",
       "4      0            373450   8.0500   NaN        S  "
      ]
     },
     "execution_count": 2,
     "metadata": {},
     "output_type": "execute_result"
    }
   ],
   "source": [
    "#Reading the CSV file\n",
    "titanic_data=pd.read_csv(\"titanic.csv\")\n",
    "\n",
    "#Printing the first 5 rows of the data\n",
    "titanic_data.head()"
   ]
  },
  {
   "cell_type": "code",
   "execution_count": 3,
   "id": "012964e0-8176-4a7c-9d13-f865b040fe7a",
   "metadata": {},
   "outputs": [
    {
     "name": "stdout",
     "output_type": "stream",
     "text": [
      "<class 'pandas.core.frame.DataFrame'>\n",
      "RangeIndex: 891 entries, 0 to 890\n",
      "Data columns (total 12 columns):\n",
      " #   Column       Non-Null Count  Dtype  \n",
      "---  ------       --------------  -----  \n",
      " 0   PassengerId  891 non-null    int64  \n",
      " 1   Survived     891 non-null    int64  \n",
      " 2   Pclass       891 non-null    int64  \n",
      " 3   Name         891 non-null    object \n",
      " 4   Sex          891 non-null    object \n",
      " 5   Age          714 non-null    float64\n",
      " 6   SibSp        891 non-null    int64  \n",
      " 7   Parch        891 non-null    int64  \n",
      " 8   Ticket       891 non-null    object \n",
      " 9   Fare         891 non-null    float64\n",
      " 10  Cabin        204 non-null    object \n",
      " 11  Embarked     889 non-null    object \n",
      "dtypes: float64(2), int64(5), object(5)\n",
      "memory usage: 83.7+ KB\n"
     ]
    }
   ],
   "source": [
    "#Checking for the rows & columns and if there any null values\n",
    "titanic_data.info()"
   ]
  },
  {
   "cell_type": "markdown",
   "id": "8e5242d7-b056-482f-afa4-568961b15985",
   "metadata": {},
   "source": [
    "***\n",
    "*There are 891 rows and 12 columns in which **\"Age\",\"Cabin\"** and **\"Embarked\"** column contains null values and also different datatypes*\n",
    "***"
   ]
  },
  {
   "cell_type": "code",
   "execution_count": 4,
   "id": "151056d2-abc2-47bd-9c3a-ea320bc4dee9",
   "metadata": {},
   "outputs": [
    {
     "data": {
      "text/plain": [
       "PassengerId      0\n",
       "Survived         0\n",
       "Pclass           0\n",
       "Name             0\n",
       "Sex              0\n",
       "Age            177\n",
       "SibSp            0\n",
       "Parch            0\n",
       "Ticket           0\n",
       "Fare             0\n",
       "Cabin          687\n",
       "Embarked         2\n",
       "dtype: int64"
      ]
     },
     "execution_count": 4,
     "metadata": {},
     "output_type": "execute_result"
    }
   ],
   "source": [
    "#Checking for the number of Missing values\n",
    "titanic_data.isnull().sum()"
   ]
  },
  {
   "cell_type": "markdown",
   "id": "a8f117a8-1e62-476e-bc4c-b69dfba1cda7",
   "metadata": {},
   "source": [
    "***\n",
    "*In the above output we can see that **\"Age\", \"Cabin\"** and **\"Embarked\"** contains missing values* \n",
    "\n",
    "    * Drop the \"Cabin\" column as it contains maximum missing values\n",
    "    * Fill the \"Age\" column with mean age with the help of (.fillna)\n",
    "    * Missing values of the \"Embarked\" column will be droped using (.dropna)\n",
    "***"
   ]
  },
  {
   "cell_type": "code",
   "execution_count": 5,
   "id": "54ae299a-998a-4a18-a4dd-766c74aa00bc",
   "metadata": {},
   "outputs": [],
   "source": [
    "#Droping the \"Cabin\" column as it contains maximum missing values\n",
    "titanic_data.drop(\"Cabin\",axis=1,inplace=True)"
   ]
  },
  {
   "cell_type": "code",
   "execution_count": 6,
   "id": "456ac933-00d8-4239-af1f-6c408fbe75cf",
   "metadata": {},
   "outputs": [],
   "source": [
    "#Filling average age in \"Age\" column as null values are less \n",
    "titanic_data[\"Age\"].fillna(titanic_data[\"Age\"].mean(),inplace=True)"
   ]
  },
  {
   "cell_type": "code",
   "execution_count": 7,
   "id": "d2cc17e1-68c4-482c-9cfd-fafb6c97f652",
   "metadata": {},
   "outputs": [],
   "source": [
    "#Droping the null values from \"Embarked\" column\n",
    "titanic_data.dropna(inplace=True)"
   ]
  },
  {
   "cell_type": "code",
   "execution_count": 8,
   "id": "c8eee73c-4980-4e75-9437-76be006d1340",
   "metadata": {},
   "outputs": [],
   "source": [
    "#Droping unnecesarry columns\n",
    "titanic_data.drop([\"PassengerId\",\"Name\",\"Ticket\",\"Fare\"],axis=1,inplace=True)"
   ]
  },
  {
   "cell_type": "code",
   "execution_count": 9,
   "id": "346b2203-900b-4d76-8928-98b1412ab24f",
   "metadata": {},
   "outputs": [
    {
     "data": {
      "text/html": [
       "<div>\n",
       "<style scoped>\n",
       "    .dataframe tbody tr th:only-of-type {\n",
       "        vertical-align: middle;\n",
       "    }\n",
       "\n",
       "    .dataframe tbody tr th {\n",
       "        vertical-align: top;\n",
       "    }\n",
       "\n",
       "    .dataframe thead th {\n",
       "        text-align: right;\n",
       "    }\n",
       "</style>\n",
       "<table border=\"1\" class=\"dataframe\">\n",
       "  <thead>\n",
       "    <tr style=\"text-align: right;\">\n",
       "      <th></th>\n",
       "      <th>Survived</th>\n",
       "      <th>Pclass</th>\n",
       "      <th>Sex</th>\n",
       "      <th>Age</th>\n",
       "      <th>SibSp</th>\n",
       "      <th>Parch</th>\n",
       "      <th>Embarked</th>\n",
       "    </tr>\n",
       "  </thead>\n",
       "  <tbody>\n",
       "    <tr>\n",
       "      <th>0</th>\n",
       "      <td>0</td>\n",
       "      <td>3</td>\n",
       "      <td>male</td>\n",
       "      <td>22.0</td>\n",
       "      <td>1</td>\n",
       "      <td>0</td>\n",
       "      <td>S</td>\n",
       "    </tr>\n",
       "    <tr>\n",
       "      <th>1</th>\n",
       "      <td>1</td>\n",
       "      <td>1</td>\n",
       "      <td>female</td>\n",
       "      <td>38.0</td>\n",
       "      <td>1</td>\n",
       "      <td>0</td>\n",
       "      <td>C</td>\n",
       "    </tr>\n",
       "    <tr>\n",
       "      <th>2</th>\n",
       "      <td>1</td>\n",
       "      <td>3</td>\n",
       "      <td>female</td>\n",
       "      <td>26.0</td>\n",
       "      <td>0</td>\n",
       "      <td>0</td>\n",
       "      <td>S</td>\n",
       "    </tr>\n",
       "    <tr>\n",
       "      <th>3</th>\n",
       "      <td>1</td>\n",
       "      <td>1</td>\n",
       "      <td>female</td>\n",
       "      <td>35.0</td>\n",
       "      <td>1</td>\n",
       "      <td>0</td>\n",
       "      <td>S</td>\n",
       "    </tr>\n",
       "    <tr>\n",
       "      <th>4</th>\n",
       "      <td>0</td>\n",
       "      <td>3</td>\n",
       "      <td>male</td>\n",
       "      <td>35.0</td>\n",
       "      <td>0</td>\n",
       "      <td>0</td>\n",
       "      <td>S</td>\n",
       "    </tr>\n",
       "  </tbody>\n",
       "</table>\n",
       "</div>"
      ],
      "text/plain": [
       "   Survived  Pclass     Sex   Age  SibSp  Parch Embarked\n",
       "0         0       3    male  22.0      1      0        S\n",
       "1         1       1  female  38.0      1      0        C\n",
       "2         1       3  female  26.0      0      0        S\n",
       "3         1       1  female  35.0      1      0        S\n",
       "4         0       3    male  35.0      0      0        S"
      ]
     },
     "execution_count": 9,
     "metadata": {},
     "output_type": "execute_result"
    }
   ],
   "source": [
    "titanic_data.head()"
   ]
  },
  {
   "cell_type": "code",
   "execution_count": 10,
   "id": "8f3309f8-146a-4c31-be7d-27a51ff363fa",
   "metadata": {},
   "outputs": [
    {
     "name": "stdout",
     "output_type": "stream",
     "text": [
      "Survived\n",
      "0    549\n",
      "1    340\n",
      "Name: count, dtype: int64\n",
      "===========\n",
      "Pclass\n",
      "3    491\n",
      "1    214\n",
      "2    184\n",
      "Name: count, dtype: int64\n",
      "===========\n",
      "Sex\n",
      "male      577\n",
      "female    312\n",
      "Name: count, dtype: int64\n",
      "===========\n",
      "Age\n",
      "29.699118    177\n",
      "24.000000     30\n",
      "22.000000     27\n",
      "18.000000     26\n",
      "28.000000     25\n",
      "            ... \n",
      "36.500000      1\n",
      "55.500000      1\n",
      "0.920000       1\n",
      "23.500000      1\n",
      "74.000000      1\n",
      "Name: count, Length: 89, dtype: int64\n",
      "===========\n",
      "SibSp\n",
      "0    606\n",
      "1    209\n",
      "2     28\n",
      "4     18\n",
      "3     16\n",
      "8      7\n",
      "5      5\n",
      "Name: count, dtype: int64\n",
      "===========\n",
      "Parch\n",
      "0    676\n",
      "1    118\n",
      "2     80\n",
      "5      5\n",
      "3      5\n",
      "4      4\n",
      "6      1\n",
      "Name: count, dtype: int64\n",
      "===========\n",
      "Embarked\n",
      "S    644\n",
      "C    168\n",
      "Q     77\n",
      "Name: count, dtype: int64\n",
      "===========\n"
     ]
    }
   ],
   "source": [
    "#Checking ount of every column\n",
    "for i in titanic_data.columns:\n",
    "    print(titanic_data[i].value_counts())\n",
    "    print(\"===========\")"
   ]
  },
  {
   "cell_type": "markdown",
   "id": "3a4a585c-2953-449f-98ef-47421110e45a",
   "metadata": {},
   "source": [
    "## Analysing Data through different Graphs"
   ]
  },
  {
   "cell_type": "code",
   "execution_count": 11,
   "id": "4e21e609-4d77-4388-9d1f-806b93d071f4",
   "metadata": {},
   "outputs": [
    {
     "data": {
      "text/plain": [
       "Survived\n",
       "0    549\n",
       "1    340\n",
       "Name: count, dtype: int64"
      ]
     },
     "execution_count": 11,
     "metadata": {},
     "output_type": "execute_result"
    }
   ],
   "source": [
    "#Count of Survived Passengers\n",
    "titanic_data[\"Survived\"].value_counts()"
   ]
  },
  {
   "cell_type": "code",
   "execution_count": 12,
   "id": "574270fe-2aa5-4fc5-bccf-ac63a0a819a4",
   "metadata": {},
   "outputs": [
    {
     "data": {
      "image/png": "[encoded data removed]",
      "text/plain": [
       "<Figure size 800x500 with 1 Axes>"
      ]
     },
     "metadata": {},
     "output_type": "display_data"
    }
   ],
   "source": [
    "#Survival and Non-Survvival Count of male and female using BarPlot\n",
    "plt.figure(figsize=(8,5))\n",
    "sns.barplot(data=titanic_data,x='Survived',y='Age',hue='Sex')\n",
    "plt.title(\"Gender and Age wise Survival and Non-Survival count\")\n",
    "plt.show()"
   ]
  },
  {
   "cell_type": "markdown",
   "id": "d7eaef14-3ddd-4b05-a5d2-c524a3849fde",
   "metadata": {},
   "source": [
    "***\n",
    "*In the above output we can see that the count of **male survival** is **less** than **female survival***\n",
    "***"
   ]
  },
  {
   "cell_type": "code",
   "execution_count": 13,
   "id": "101ad18e-8b4b-45f2-b9c6-4bbd65108df4",
   "metadata": {},
   "outputs": [
    {
     "data": {
      "image/png": "[encoded data removed]",
      "text/plain": [
       "<Figure size 600x700 with 1 Axes>"
      ]
     },
     "metadata": {},
     "output_type": "display_data"
    }
   ],
   "source": [
    "#Analysing class wise passengers\n",
    "plt.figure(figsize=(6,7))\n",
    "color=sns.color_palette('pastel')\n",
    "titanic_data['Pclass'].value_counts().plot.pie(autopct='%1.2f%%',colors=color)\n",
    "plt.show()"
   ]
  },
  {
   "cell_type": "markdown",
   "id": "7c8497bb-8756-4c94-b24e-6df3c4482ff4",
   "metadata": {},
   "source": [
    "***\n",
    "*We can see that maximum passegers are from class 3 i.e. **55.23%***\n",
    "***"
   ]
  },
  {
   "cell_type": "code",
   "execution_count": 14,
   "id": "5dccc9db-dd71-4242-9dc4-9ea5cbc9489f",
   "metadata": {},
   "outputs": [
    {
     "data": {
      "text/plain": [
       "<Figure size 600x400 with 0 Axes>"
      ]
     },
     "metadata": {},
     "output_type": "display_data"
    },
    {
     "data": {
      "image/png": "[encoded data removed]",
      "text/plain": [
       "<Figure size 1072.11x1000 with 20 Axes>"
      ]
     },
     "metadata": {},
     "output_type": "display_data"
    }
   ],
   "source": [
    "#Number of passengers Survived \n",
    "plt.figure(figsize=(6,4))\n",
    "sns.pairplot(titanic_data,hue=\"Survived\")\n",
    "plt.show()"
   ]
  },
  {
   "cell_type": "code",
   "execution_count": 15,
   "id": "5c1c700f-8ae9-4ad7-89a1-533f67dbc7e7",
   "metadata": {},
   "outputs": [
    {
     "data": {
      "image/png": "[encoded data removed]",
      "text/plain": [
       "<Figure size 600x700 with 1 Axes>"
      ]
     },
     "metadata": {},
     "output_type": "display_data"
    }
   ],
   "source": [
    "#Analysing class wise passengers\n",
    "plt.figure(figsize=(6,7))\n",
    "color=sns.color_palette('pastel')\n",
    "titanic_data['Embarked'].value_counts().plot.pie(autopct='%1.2f%%',colors=color)\n",
    "plt.show()"
   ]
  },
  {
   "cell_type": "markdown",
   "id": "36a77fea-d717-4ea9-ab24-52fa06497c3d",
   "metadata": {},
   "source": [
    "***\n",
    "_We observe that the highest proportion of passengers, accounting for **72.44%**, embarked from **Southampton**, marked as **\"S\"** in the dataset_\n",
    "***"
   ]
  },
  {
   "cell_type": "markdown",
   "id": "e5497d21-5878-4fc4-af67-b756d316b6c6",
   "metadata": {},
   "source": [
    "## Separating Data into X and Y"
   ]
  },
  {
   "cell_type": "code",
   "execution_count": 16,
   "id": "f933b2ba-2dd3-4c32-9254-61581b61752d",
   "metadata": {},
   "outputs": [],
   "source": [
    "#Separating X and Y\n",
    "x=titanic_data.iloc[:,1:]\n",
    "y=titanic_data['Survived']"
   ]
  },
  {
   "cell_type": "code",
   "execution_count": 17,
   "id": "2c1d1667-9b6b-4502-b3ff-cba53363f12c",
   "metadata": {},
   "outputs": [
    {
     "data": {
      "text/html": [
       "<div>\n",
       "<style scoped>\n",
       "    .dataframe tbody tr th:only-of-type {\n",
       "        vertical-align: middle;\n",
       "    }\n",
       "\n",
       "    .dataframe tbody tr th {\n",
       "        vertical-align: top;\n",
       "    }\n",
       "\n",
       "    .dataframe thead th {\n",
       "        text-align: right;\n",
       "    }\n",
       "</style>\n",
       "<table border=\"1\" class=\"dataframe\">\n",
       "  <thead>\n",
       "    <tr style=\"text-align: right;\">\n",
       "      <th></th>\n",
       "      <th>Pclass</th>\n",
       "      <th>Sex</th>\n",
       "      <th>Age</th>\n",
       "      <th>SibSp</th>\n",
       "      <th>Parch</th>\n",
       "      <th>Embarked</th>\n",
       "    </tr>\n",
       "  </thead>\n",
       "  <tbody>\n",
       "    <tr>\n",
       "      <th>0</th>\n",
       "      <td>3</td>\n",
       "      <td>male</td>\n",
       "      <td>22.000000</td>\n",
       "      <td>1</td>\n",
       "      <td>0</td>\n",
       "      <td>S</td>\n",
       "    </tr>\n",
       "    <tr>\n",
       "      <th>1</th>\n",
       "      <td>1</td>\n",
       "      <td>female</td>\n",
       "      <td>38.000000</td>\n",
       "      <td>1</td>\n",
       "      <td>0</td>\n",
       "      <td>C</td>\n",
       "    </tr>\n",
       "    <tr>\n",
       "      <th>2</th>\n",
       "      <td>3</td>\n",
       "      <td>female</td>\n",
       "      <td>26.000000</td>\n",
       "      <td>0</td>\n",
       "      <td>0</td>\n",
       "      <td>S</td>\n",
       "    </tr>\n",
       "    <tr>\n",
       "      <th>3</th>\n",
       "      <td>1</td>\n",
       "      <td>female</td>\n",
       "      <td>35.000000</td>\n",
       "      <td>1</td>\n",
       "      <td>0</td>\n",
       "      <td>S</td>\n",
       "    </tr>\n",
       "    <tr>\n",
       "      <th>4</th>\n",
       "      <td>3</td>\n",
       "      <td>male</td>\n",
       "      <td>35.000000</td>\n",
       "      <td>0</td>\n",
       "      <td>0</td>\n",
       "      <td>S</td>\n",
       "    </tr>\n",
       "    <tr>\n",
       "      <th>...</th>\n",
       "      <td>...</td>\n",
       "      <td>...</td>\n",
       "      <td>...</td>\n",
       "      <td>...</td>\n",
       "      <td>...</td>\n",
       "      <td>...</td>\n",
       "    </tr>\n",
       "    <tr>\n",
       "      <th>886</th>\n",
       "      <td>2</td>\n",
       "      <td>male</td>\n",
       "      <td>27.000000</td>\n",
       "      <td>0</td>\n",
       "      <td>0</td>\n",
       "      <td>S</td>\n",
       "    </tr>\n",
       "    <tr>\n",
       "      <th>887</th>\n",
       "      <td>1</td>\n",
       "      <td>female</td>\n",
       "      <td>19.000000</td>\n",
       "      <td>0</td>\n",
       "      <td>0</td>\n",
       "      <td>S</td>\n",
       "    </tr>\n",
       "    <tr>\n",
       "      <th>888</th>\n",
       "      <td>3</td>\n",
       "      <td>female</td>\n",
       "      <td>29.699118</td>\n",
       "      <td>1</td>\n",
       "      <td>2</td>\n",
       "      <td>S</td>\n",
       "    </tr>\n",
       "    <tr>\n",
       "      <th>889</th>\n",
       "      <td>1</td>\n",
       "      <td>male</td>\n",
       "      <td>26.000000</td>\n",
       "      <td>0</td>\n",
       "      <td>0</td>\n",
       "      <td>C</td>\n",
       "    </tr>\n",
       "    <tr>\n",
       "      <th>890</th>\n",
       "      <td>3</td>\n",
       "      <td>male</td>\n",
       "      <td>32.000000</td>\n",
       "      <td>0</td>\n",
       "      <td>0</td>\n",
       "      <td>Q</td>\n",
       "    </tr>\n",
       "  </tbody>\n",
       "</table>\n",
       "<p>889 rows × 6 columns</p>\n",
       "</div>"
      ],
      "text/plain": [
       "     Pclass     Sex        Age  SibSp  Parch Embarked\n",
       "0         3    male  22.000000      1      0        S\n",
       "1         1  female  38.000000      1      0        C\n",
       "2         3  female  26.000000      0      0        S\n",
       "3         1  female  35.000000      1      0        S\n",
       "4         3    male  35.000000      0      0        S\n",
       "..      ...     ...        ...    ...    ...      ...\n",
       "886       2    male  27.000000      0      0        S\n",
       "887       1  female  19.000000      0      0        S\n",
       "888       3  female  29.699118      1      2        S\n",
       "889       1    male  26.000000      0      0        C\n",
       "890       3    male  32.000000      0      0        Q\n",
       "\n",
       "[889 rows x 6 columns]"
      ]
     },
     "execution_count": 17,
     "metadata": {},
     "output_type": "execute_result"
    }
   ],
   "source": [
    "x"
   ]
  },
  {
   "cell_type": "markdown",
   "id": "7aa7e425-0311-4366-a100-a10412b39b73",
   "metadata": {},
   "source": [
    "## Encoding Categorical columns into Numerical columns"
   ]
  },
  {
   "cell_type": "code",
   "execution_count": 18,
   "id": "cc7b63d3-df74-4529-b17f-2492d3de45d8",
   "metadata": {},
   "outputs": [
    {
     "name": "stdout",
     "output_type": "stream",
     "text": [
      "Sex\n",
      "male      577\n",
      "female    312\n",
      "Name: count, dtype: int64\n",
      "Embarked\n",
      "S    644\n",
      "C    168\n",
      "Q     77\n",
      "Name: count, dtype: int64\n"
     ]
    }
   ],
   "source": [
    "#Checking the total count of 'Sex' and 'Embarked' column\n",
    "print(x[\"Sex\"].value_counts())\n",
    "print(x[\"Embarked\"].value_counts())"
   ]
  },
  {
   "cell_type": "code",
   "execution_count": 19,
   "id": "03628aa4-6dc7-47c8-a8af-2c238701893c",
   "metadata": {},
   "outputs": [],
   "source": [
    "#Replacing catogorical values with numerical values\n",
    "x[\"Sex\"]=x[\"Sex\"].replace({'male':0,'female':1})\n",
    "x[\"Embarked\"]=x[\"Embarked\"].replace({'S':0,'C':1,'Q':2})"
   ]
  },
  {
   "cell_type": "code",
   "execution_count": 20,
   "id": "93d644cd-6301-49bd-945b-1376d2df4956",
   "metadata": {},
   "outputs": [
    {
     "data": {
      "text/html": [
       "<div>\n",
       "<style scoped>\n",
       "    .dataframe tbody tr th:only-of-type {\n",
       "        vertical-align: middle;\n",
       "    }\n",
       "\n",
       "    .dataframe tbody tr th {\n",
       "        vertical-align: top;\n",
       "    }\n",
       "\n",
       "    .dataframe thead th {\n",
       "        text-align: right;\n",
       "    }\n",
       "</style>\n",
       "<table border=\"1\" class=\"dataframe\">\n",
       "  <thead>\n",
       "    <tr style=\"text-align: right;\">\n",
       "      <th></th>\n",
       "      <th>Pclass</th>\n",
       "      <th>Sex</th>\n",
       "      <th>Age</th>\n",
       "      <th>SibSp</th>\n",
       "      <th>Parch</th>\n",
       "      <th>Embarked</th>\n",
       "    </tr>\n",
       "  </thead>\n",
       "  <tbody>\n",
       "    <tr>\n",
       "      <th>0</th>\n",
       "      <td>3</td>\n",
       "      <td>0</td>\n",
       "      <td>22.000000</td>\n",
       "      <td>1</td>\n",
       "      <td>0</td>\n",
       "      <td>0</td>\n",
       "    </tr>\n",
       "    <tr>\n",
       "      <th>1</th>\n",
       "      <td>1</td>\n",
       "      <td>1</td>\n",
       "      <td>38.000000</td>\n",
       "      <td>1</td>\n",
       "      <td>0</td>\n",
       "      <td>1</td>\n",
       "    </tr>\n",
       "    <tr>\n",
       "      <th>2</th>\n",
       "      <td>3</td>\n",
       "      <td>1</td>\n",
       "      <td>26.000000</td>\n",
       "      <td>0</td>\n",
       "      <td>0</td>\n",
       "      <td>0</td>\n",
       "    </tr>\n",
       "    <tr>\n",
       "      <th>3</th>\n",
       "      <td>1</td>\n",
       "      <td>1</td>\n",
       "      <td>35.000000</td>\n",
       "      <td>1</td>\n",
       "      <td>0</td>\n",
       "      <td>0</td>\n",
       "    </tr>\n",
       "    <tr>\n",
       "      <th>4</th>\n",
       "      <td>3</td>\n",
       "      <td>0</td>\n",
       "      <td>35.000000</td>\n",
       "      <td>0</td>\n",
       "      <td>0</td>\n",
       "      <td>0</td>\n",
       "    </tr>\n",
       "    <tr>\n",
       "      <th>...</th>\n",
       "      <td>...</td>\n",
       "      <td>...</td>\n",
       "      <td>...</td>\n",
       "      <td>...</td>\n",
       "      <td>...</td>\n",
       "      <td>...</td>\n",
       "    </tr>\n",
       "    <tr>\n",
       "      <th>886</th>\n",
       "      <td>2</td>\n",
       "      <td>0</td>\n",
       "      <td>27.000000</td>\n",
       "      <td>0</td>\n",
       "      <td>0</td>\n",
       "      <td>0</td>\n",
       "    </tr>\n",
       "    <tr>\n",
       "      <th>887</th>\n",
       "      <td>1</td>\n",
       "      <td>1</td>\n",
       "      <td>19.000000</td>\n",
       "      <td>0</td>\n",
       "      <td>0</td>\n",
       "      <td>0</td>\n",
       "    </tr>\n",
       "    <tr>\n",
       "      <th>888</th>\n",
       "      <td>3</td>\n",
       "      <td>1</td>\n",
       "      <td>29.699118</td>\n",
       "      <td>1</td>\n",
       "      <td>2</td>\n",
       "      <td>0</td>\n",
       "    </tr>\n",
       "    <tr>\n",
       "      <th>889</th>\n",
       "      <td>1</td>\n",
       "      <td>0</td>\n",
       "      <td>26.000000</td>\n",
       "      <td>0</td>\n",
       "      <td>0</td>\n",
       "      <td>1</td>\n",
       "    </tr>\n",
       "    <tr>\n",
       "      <th>890</th>\n",
       "      <td>3</td>\n",
       "      <td>0</td>\n",
       "      <td>32.000000</td>\n",
       "      <td>0</td>\n",
       "      <td>0</td>\n",
       "      <td>2</td>\n",
       "    </tr>\n",
       "  </tbody>\n",
       "</table>\n",
       "<p>889 rows × 6 columns</p>\n",
       "</div>"
      ],
      "text/plain": [
       "     Pclass  Sex        Age  SibSp  Parch  Embarked\n",
       "0         3    0  22.000000      1      0         0\n",
       "1         1    1  38.000000      1      0         1\n",
       "2         3    1  26.000000      0      0         0\n",
       "3         1    1  35.000000      1      0         0\n",
       "4         3    0  35.000000      0      0         0\n",
       "..      ...  ...        ...    ...    ...       ...\n",
       "886       2    0  27.000000      0      0         0\n",
       "887       1    1  19.000000      0      0         0\n",
       "888       3    1  29.699118      1      2         0\n",
       "889       1    0  26.000000      0      0         1\n",
       "890       3    0  32.000000      0      0         2\n",
       "\n",
       "[889 rows x 6 columns]"
      ]
     },
     "execution_count": 20,
     "metadata": {},
     "output_type": "execute_result"
    }
   ],
   "source": [
    "x"
   ]
  },
  {
   "cell_type": "code",
   "execution_count": 21,
   "id": "f3b9cd52-b8ed-4add-91b4-25618f42d595",
   "metadata": {},
   "outputs": [
    {
     "data": {
      "text/html": [
       "<style type=\"text/css\">\n",
       "#T_005d9_row0_col0, #T_005d9_row1_col1, #T_005d9_row2_col2, #T_005d9_row3_col3, #T_005d9_row4_col4, #T_005d9_row5_col5 {\n",
       "  background-color: #081d58;\n",
       "  color: #f1f1f1;\n",
       "}\n",
       "#T_005d9_row0_col1, #T_005d9_row0_col2, #T_005d9_row2_col0, #T_005d9_row2_col3, #T_005d9_row2_col4, #T_005d9_row4_col5 {\n",
       "  background-color: #ffffd9;\n",
       "  color: #000000;\n",
       "}\n",
       "#T_005d9_row0_col3, #T_005d9_row5_col2 {\n",
       "  background-color: #c4e8b4;\n",
       "  color: #000000;\n",
       "}\n",
       "#T_005d9_row0_col4 {\n",
       "  background-color: #e1f3b2;\n",
       "  color: #000000;\n",
       "}\n",
       "#T_005d9_row0_col5 {\n",
       "  background-color: #eff9b5;\n",
       "  color: #000000;\n",
       "}\n",
       "#T_005d9_row1_col0 {\n",
       "  background-color: #e6f5b2;\n",
       "  color: #000000;\n",
       "}\n",
       "#T_005d9_row1_col2 {\n",
       "  background-color: #ddf2b2;\n",
       "  color: #000000;\n",
       "}\n",
       "#T_005d9_row1_col3 {\n",
       "  background-color: #b4e2b6;\n",
       "  color: #000000;\n",
       "}\n",
       "#T_005d9_row1_col4 {\n",
       "  background-color: #87d0ba;\n",
       "  color: #000000;\n",
       "}\n",
       "#T_005d9_row1_col5 {\n",
       "  background-color: #dcf1b2;\n",
       "  color: #000000;\n",
       "}\n",
       "#T_005d9_row2_col1 {\n",
       "  background-color: #fafdcf;\n",
       "  color: #000000;\n",
       "}\n",
       "#T_005d9_row2_col5, #T_005d9_row5_col4 {\n",
       "  background-color: #f3fabf;\n",
       "  color: #000000;\n",
       "}\n",
       "#T_005d9_row3_col0 {\n",
       "  background-color: #a7dcb7;\n",
       "  color: #000000;\n",
       "}\n",
       "#T_005d9_row3_col1, #T_005d9_row5_col1 {\n",
       "  background-color: #d1edb3;\n",
       "  color: #000000;\n",
       "}\n",
       "#T_005d9_row3_col2 {\n",
       "  background-color: #f5fbc2;\n",
       "  color: #000000;\n",
       "}\n",
       "#T_005d9_row3_col4 {\n",
       "  background-color: #40b5c4;\n",
       "  color: #f1f1f1;\n",
       "}\n",
       "#T_005d9_row3_col5 {\n",
       "  background-color: #fdfed4;\n",
       "  color: #000000;\n",
       "}\n",
       "#T_005d9_row4_col0 {\n",
       "  background-color: #c2e7b4;\n",
       "  color: #000000;\n",
       "}\n",
       "#T_005d9_row4_col1 {\n",
       "  background-color: #97d6b9;\n",
       "  color: #000000;\n",
       "}\n",
       "#T_005d9_row4_col2 {\n",
       "  background-color: #eff9b6;\n",
       "  color: #000000;\n",
       "}\n",
       "#T_005d9_row4_col3 {\n",
       "  background-color: #3aaec3;\n",
       "  color: #f1f1f1;\n",
       "}\n",
       "#T_005d9_row5_col0 {\n",
       "  background-color: #b7e3b6;\n",
       "  color: #000000;\n",
       "}\n",
       "#T_005d9_row5_col3 {\n",
       "  background-color: #e9f7b1;\n",
       "  color: #000000;\n",
       "}\n",
       "</style>\n",
       "<table id=\"T_005d9\">\n",
       "  <thead>\n",
       "    <tr>\n",
       "      <th class=\"blank level0\" >&nbsp;</th>\n",
       "      <th id=\"T_005d9_level0_col0\" class=\"col_heading level0 col0\" >Pclass</th>\n",
       "      <th id=\"T_005d9_level0_col1\" class=\"col_heading level0 col1\" >Sex</th>\n",
       "      <th id=\"T_005d9_level0_col2\" class=\"col_heading level0 col2\" >Age</th>\n",
       "      <th id=\"T_005d9_level0_col3\" class=\"col_heading level0 col3\" >SibSp</th>\n",
       "      <th id=\"T_005d9_level0_col4\" class=\"col_heading level0 col4\" >Parch</th>\n",
       "      <th id=\"T_005d9_level0_col5\" class=\"col_heading level0 col5\" >Embarked</th>\n",
       "    </tr>\n",
       "  </thead>\n",
       "  <tbody>\n",
       "    <tr>\n",
       "      <th id=\"T_005d9_level0_row0\" class=\"row_heading level0 row0\" >Pclass</th>\n",
       "      <td id=\"T_005d9_row0_col0\" class=\"data row0 col0\" >1.000000</td>\n",
       "      <td id=\"T_005d9_row0_col1\" class=\"data row0 col1\" >-0.127741</td>\n",
       "      <td id=\"T_005d9_row0_col2\" class=\"data row0 col2\" >-0.327954</td>\n",
       "      <td id=\"T_005d9_row0_col3\" class=\"data row0 col3\" >0.081656</td>\n",
       "      <td id=\"T_005d9_row0_col4\" class=\"data row0 col4\" >0.016824</td>\n",
       "      <td id=\"T_005d9_row0_col5\" class=\"data row0 col5\" >0.043835</td>\n",
       "    </tr>\n",
       "    <tr>\n",
       "      <th id=\"T_005d9_level0_row1\" class=\"row_heading level0 row1\" >Sex</th>\n",
       "      <td id=\"T_005d9_row1_col0\" class=\"data row1 col0\" >-0.127741</td>\n",
       "      <td id=\"T_005d9_row1_col1\" class=\"data row1 col1\" >1.000000</td>\n",
       "      <td id=\"T_005d9_row1_col2\" class=\"data row1 col2\" >-0.089434</td>\n",
       "      <td id=\"T_005d9_row1_col3\" class=\"data row1 col3\" >0.116348</td>\n",
       "      <td id=\"T_005d9_row1_col4\" class=\"data row1 col4\" >0.247508</td>\n",
       "      <td id=\"T_005d9_row1_col5\" class=\"data row1 col5\" >0.118593</td>\n",
       "    </tr>\n",
       "    <tr>\n",
       "      <th id=\"T_005d9_level0_row2\" class=\"row_heading level0 row2\" >Age</th>\n",
       "      <td id=\"T_005d9_row2_col0\" class=\"data row2 col0\" >-0.327954</td>\n",
       "      <td id=\"T_005d9_row2_col1\" class=\"data row2 col1\" >-0.089434</td>\n",
       "      <td id=\"T_005d9_row2_col2\" class=\"data row2 col2\" >1.000000</td>\n",
       "      <td id=\"T_005d9_row2_col3\" class=\"data row2 col3\" >-0.231875</td>\n",
       "      <td id=\"T_005d9_row2_col4\" class=\"data row2 col4\" >-0.178232</td>\n",
       "      <td id=\"T_005d9_row2_col5\" class=\"data row2 col5\" >0.009499</td>\n",
       "    </tr>\n",
       "    <tr>\n",
       "      <th id=\"T_005d9_level0_row3\" class=\"row_heading level0 row3\" >SibSp</th>\n",
       "      <td id=\"T_005d9_row3_col0\" class=\"data row3 col0\" >0.081656</td>\n",
       "      <td id=\"T_005d9_row3_col1\" class=\"data row3 col1\" >0.116348</td>\n",
       "      <td id=\"T_005d9_row3_col2\" class=\"data row3 col2\" >-0.231875</td>\n",
       "      <td id=\"T_005d9_row3_col3\" class=\"data row3 col3\" >1.000000</td>\n",
       "      <td id=\"T_005d9_row3_col4\" class=\"data row3 col4\" >0.414542</td>\n",
       "      <td id=\"T_005d9_row3_col5\" class=\"data row3 col5\" >-0.060606</td>\n",
       "    </tr>\n",
       "    <tr>\n",
       "      <th id=\"T_005d9_level0_row4\" class=\"row_heading level0 row4\" >Parch</th>\n",
       "      <td id=\"T_005d9_row4_col0\" class=\"data row4 col0\" >0.016824</td>\n",
       "      <td id=\"T_005d9_row4_col1\" class=\"data row4 col1\" >0.247508</td>\n",
       "      <td id=\"T_005d9_row4_col2\" class=\"data row4 col2\" >-0.178232</td>\n",
       "      <td id=\"T_005d9_row4_col3\" class=\"data row4 col3\" >0.414542</td>\n",
       "      <td id=\"T_005d9_row4_col4\" class=\"data row4 col4\" >1.000000</td>\n",
       "      <td id=\"T_005d9_row4_col5\" class=\"data row4 col5\" >-0.079320</td>\n",
       "    </tr>\n",
       "    <tr>\n",
       "      <th id=\"T_005d9_level0_row5\" class=\"row_heading level0 row5\" >Embarked</th>\n",
       "      <td id=\"T_005d9_row5_col0\" class=\"data row5 col0\" >0.043835</td>\n",
       "      <td id=\"T_005d9_row5_col1\" class=\"data row5 col1\" >0.118593</td>\n",
       "      <td id=\"T_005d9_row5_col2\" class=\"data row5 col2\" >0.009499</td>\n",
       "      <td id=\"T_005d9_row5_col3\" class=\"data row5 col3\" >-0.060606</td>\n",
       "      <td id=\"T_005d9_row5_col4\" class=\"data row5 col4\" >-0.079320</td>\n",
       "      <td id=\"T_005d9_row5_col5\" class=\"data row5 col5\" >1.000000</td>\n",
       "    </tr>\n",
       "  </tbody>\n",
       "</table>\n"
      ],
      "text/plain": [
       "<pandas.io.formats.style.Styler at 0x26556db6d50>"
      ]
     },
     "execution_count": 21,
     "metadata": {},
     "output_type": "execute_result"
    }
   ],
   "source": [
    "#Correlation between the columns\n",
    "x.corr().style.background_gradient(cmap='YlGnBu')"
   ]
  },
  {
   "cell_type": "markdown",
   "id": "30c570a2-4d12-4215-9054-c0b895b7010b",
   "metadata": {},
   "source": [
    "## Splitting the Data into Train and Test"
   ]
  },
  {
   "cell_type": "code",
   "execution_count": 22,
   "id": "8f87e7dc-923d-4d5d-9ee0-245e8d00527b",
   "metadata": {},
   "outputs": [],
   "source": [
    "#Importing train_test_split\n",
    "from sklearn.model_selection import train_test_split\n",
    "\n",
    "#Splitting the data\n",
    "xtrain,xtest,ytrain,ytest=train_test_split(x,y,test_size=0.17,random_state=69)"
   ]
  },
  {
   "cell_type": "code",
   "execution_count": 23,
   "id": "f085635b-4171-441c-b4d0-509f929bf05e",
   "metadata": {},
   "outputs": [
    {
     "name": "stdout",
     "output_type": "stream",
     "text": [
      "(889, 6) (737, 6) (152, 6)\n"
     ]
    }
   ],
   "source": [
    "print(x.shape,xtrain.shape,xtest.shape)"
   ]
  },
  {
   "cell_type": "markdown",
   "id": "e7cded26-c229-49d7-a2ed-207b18eed3d0",
   "metadata": {},
   "source": [
    "## Scaling down the values"
   ]
  },
  {
   "cell_type": "code",
   "execution_count": 24,
   "id": "6fd2366b-c1b1-4285-b181-a7abfafbfc28",
   "metadata": {},
   "outputs": [],
   "source": [
    "#Feature Scaling\n",
    "from sklearn.preprocessing import StandardScaler\n",
    "ss = StandardScaler()\n",
    "xtrain = pd.DataFrame(ss.fit_transform(xtrain))\n",
    "xtest = pd.DataFrame(ss.transform(xtest))"
   ]
  },
  {
   "cell_type": "code",
   "execution_count": 25,
   "id": "c44952b2-6c7e-4e00-a254-8a91af1ad04a",
   "metadata": {},
   "outputs": [
    {
     "data": {
      "text/html": [
       "<div>\n",
       "<style scoped>\n",
       "    .dataframe tbody tr th:only-of-type {\n",
       "        vertical-align: middle;\n",
       "    }\n",
       "\n",
       "    .dataframe tbody tr th {\n",
       "        vertical-align: top;\n",
       "    }\n",
       "\n",
       "    .dataframe thead th {\n",
       "        text-align: right;\n",
       "    }\n",
       "</style>\n",
       "<table border=\"1\" class=\"dataframe\">\n",
       "  <thead>\n",
       "    <tr style=\"text-align: right;\">\n",
       "      <th></th>\n",
       "      <th>0</th>\n",
       "      <th>1</th>\n",
       "      <th>2</th>\n",
       "      <th>3</th>\n",
       "      <th>4</th>\n",
       "      <th>5</th>\n",
       "    </tr>\n",
       "  </thead>\n",
       "  <tbody>\n",
       "    <tr>\n",
       "      <th>0</th>\n",
       "      <td>-0.366887</td>\n",
       "      <td>-0.755929</td>\n",
       "      <td>-0.358995</td>\n",
       "      <td>-0.480564</td>\n",
       "      <td>-0.481913</td>\n",
       "      <td>-0.573213</td>\n",
       "    </tr>\n",
       "    <tr>\n",
       "      <th>1</th>\n",
       "      <td>0.834871</td>\n",
       "      <td>-0.755929</td>\n",
       "      <td>0.013757</td>\n",
       "      <td>-0.480564</td>\n",
       "      <td>-0.481913</td>\n",
       "      <td>-0.573213</td>\n",
       "    </tr>\n",
       "    <tr>\n",
       "      <th>2</th>\n",
       "      <td>-1.568645</td>\n",
       "      <td>-0.755929</td>\n",
       "      <td>0.013757</td>\n",
       "      <td>-0.480564</td>\n",
       "      <td>-0.481913</td>\n",
       "      <td>-0.573213</td>\n",
       "    </tr>\n",
       "    <tr>\n",
       "      <th>3</th>\n",
       "      <td>0.834871</td>\n",
       "      <td>-0.755929</td>\n",
       "      <td>-0.121024</td>\n",
       "      <td>-0.480564</td>\n",
       "      <td>-0.481913</td>\n",
       "      <td>-0.573213</td>\n",
       "    </tr>\n",
       "    <tr>\n",
       "      <th>4</th>\n",
       "      <td>0.834871</td>\n",
       "      <td>1.322876</td>\n",
       "      <td>0.116948</td>\n",
       "      <td>0.420646</td>\n",
       "      <td>0.755612</td>\n",
       "      <td>-0.573213</td>\n",
       "    </tr>\n",
       "    <tr>\n",
       "      <th>...</th>\n",
       "      <td>...</td>\n",
       "      <td>...</td>\n",
       "      <td>...</td>\n",
       "      <td>...</td>\n",
       "      <td>...</td>\n",
       "      <td>...</td>\n",
       "    </tr>\n",
       "    <tr>\n",
       "      <th>732</th>\n",
       "      <td>-0.366887</td>\n",
       "      <td>1.322876</td>\n",
       "      <td>1.227482</td>\n",
       "      <td>0.420646</td>\n",
       "      <td>0.755612</td>\n",
       "      <td>-0.573213</td>\n",
       "    </tr>\n",
       "    <tr>\n",
       "      <th>733</th>\n",
       "      <td>0.834871</td>\n",
       "      <td>-0.755929</td>\n",
       "      <td>1.148158</td>\n",
       "      <td>-0.480564</td>\n",
       "      <td>-0.481913</td>\n",
       "      <td>-0.573213</td>\n",
       "    </tr>\n",
       "    <tr>\n",
       "      <th>734</th>\n",
       "      <td>0.834871</td>\n",
       "      <td>-0.755929</td>\n",
       "      <td>-0.200348</td>\n",
       "      <td>0.420646</td>\n",
       "      <td>-0.481913</td>\n",
       "      <td>0.997263</td>\n",
       "    </tr>\n",
       "    <tr>\n",
       "      <th>735</th>\n",
       "      <td>0.834871</td>\n",
       "      <td>-0.755929</td>\n",
       "      <td>-0.914263</td>\n",
       "      <td>-0.480564</td>\n",
       "      <td>-0.481913</td>\n",
       "      <td>-0.573213</td>\n",
       "    </tr>\n",
       "    <tr>\n",
       "      <th>736</th>\n",
       "      <td>-1.568645</td>\n",
       "      <td>-0.755929</td>\n",
       "      <td>2.813959</td>\n",
       "      <td>-0.480564</td>\n",
       "      <td>0.755612</td>\n",
       "      <td>0.997263</td>\n",
       "    </tr>\n",
       "  </tbody>\n",
       "</table>\n",
       "<p>737 rows × 6 columns</p>\n",
       "</div>"
      ],
      "text/plain": [
       "            0         1         2         3         4         5\n",
       "0   -0.366887 -0.755929 -0.358995 -0.480564 -0.481913 -0.573213\n",
       "1    0.834871 -0.755929  0.013757 -0.480564 -0.481913 -0.573213\n",
       "2   -1.568645 -0.755929  0.013757 -0.480564 -0.481913 -0.573213\n",
       "3    0.834871 -0.755929 -0.121024 -0.480564 -0.481913 -0.573213\n",
       "4    0.834871  1.322876  0.116948  0.420646  0.755612 -0.573213\n",
       "..        ...       ...       ...       ...       ...       ...\n",
       "732 -0.366887  1.322876  1.227482  0.420646  0.755612 -0.573213\n",
       "733  0.834871 -0.755929  1.148158 -0.480564 -0.481913 -0.573213\n",
       "734  0.834871 -0.755929 -0.200348  0.420646 -0.481913  0.997263\n",
       "735  0.834871 -0.755929 -0.914263 -0.480564 -0.481913 -0.573213\n",
       "736 -1.568645 -0.755929  2.813959 -0.480564  0.755612  0.997263\n",
       "\n",
       "[737 rows x 6 columns]"
      ]
     },
     "execution_count": 25,
     "metadata": {},
     "output_type": "execute_result"
    }
   ],
   "source": [
    "xtrain"
   ]
  },
  {
   "cell_type": "markdown",
   "id": "1d27c778-085c-4079-80ff-373dcf61a3b0",
   "metadata": {},
   "source": [
    "## Model Building"
   ]
  },
  {
   "cell_type": "code",
   "execution_count": 26,
   "id": "73a3c808-8f89-48a7-936a-6b53cb7db5fd",
   "metadata": {},
   "outputs": [],
   "source": [
    "#Importing K-Nearest Neighbor and Metrics\n",
    "from sklearn.svm import SVC\n",
    "from sklearn.metrics import accuracy_score,confusion_matrix,classification_report"
   ]
  },
  {
   "cell_type": "code",
   "execution_count": 27,
   "id": "ca4994be-bd9d-4966-9233-9ec249cc7ce0",
   "metadata": {},
   "outputs": [],
   "source": [
    "#Assigning a variable to the model\n",
    "svm=SVC()\n",
    "\n",
    "#Training the model\n",
    "svm.fit(xtrain,ytrain)\n",
    "ypred=svm.predict(xtest)"
   ]
  },
  {
   "cell_type": "code",
   "execution_count": 28,
   "id": "ca8c3fca-57d1-42f3-a231-aae9c0b6cb74",
   "metadata": {},
   "outputs": [
    {
     "name": "stdout",
     "output_type": "stream",
     "text": [
      "Accuracy Score: 88.16% \n",
      " ---------- \n",
      " Confusion Matrix [[98  8]\n",
      " [10 36]] \n",
      " ---------- \n",
      " Classification Report               precision    recall  f1-score   support\n",
      "\n",
      "           0       0.91      0.92      0.92       106\n",
      "           1       0.82      0.78      0.80        46\n",
      "\n",
      "    accuracy                           0.88       152\n",
      "   macro avg       0.86      0.85      0.86       152\n",
      "weighted avg       0.88      0.88      0.88       152\n",
      "\n"
     ]
    }
   ],
   "source": [
    "ac=round(accuracy_score(ytest,ypred)*100,2)\n",
    "cm=confusion_matrix(ytest,ypred)\n",
    "cr=classification_report(ytest,ypred)\n",
    "print(f'Accuracy Score: {ac}% \\n ---------- \\n Confusion Matrix {cm} \\n ---------- \\n Classification Report {cr}')"
   ]
  },
  {
   "cell_type": "markdown",
   "id": "cf470856-48b1-498c-8ab7-90bcc17235c6",
   "metadata": {},
   "source": [
    "## Hypertunning using GridSearchCV"
   ]
  },
  {
   "cell_type": "code",
   "execution_count": 29,
   "id": "3cd739f4-f78e-47a6-a793-730d952fcbbf",
   "metadata": {},
   "outputs": [
    {
     "name": "stdout",
     "output_type": "stream",
     "text": [
      "Fitting 5 folds for each of 4 candidates, totalling 20 fits\n",
      "[CV 1/5] END ..........C=1, gamma=1, kernel=rbf;, score=0.777 total time=   0.0s\n",
      "[CV 2/5] END ..........C=1, gamma=1, kernel=rbf;, score=0.811 total time=   0.0s\n",
      "[CV 3/5] END ..........C=1, gamma=1, kernel=rbf;, score=0.803 total time=   0.0s\n",
      "[CV 4/5] END ..........C=1, gamma=1, kernel=rbf;, score=0.810 total time=   0.0s\n",
      "[CV 5/5] END ..........C=1, gamma=1, kernel=rbf;, score=0.782 total time=   0.0s\n",
      "[CV 1/5] END .........C=1, gamma=10, kernel=rbf;, score=0.709 total time=   0.0s\n",
      "[CV 2/5] END .........C=1, gamma=10, kernel=rbf;, score=0.723 total time=   0.0s\n",
      "[CV 3/5] END .........C=1, gamma=10, kernel=rbf;, score=0.741 total time=   0.0s\n",
      "[CV 4/5] END .........C=1, gamma=10, kernel=rbf;, score=0.769 total time=   0.0s\n",
      "[CV 5/5] END .........C=1, gamma=10, kernel=rbf;, score=0.741 total time=   0.0s\n",
      "[CV 1/5] END .........C=10, gamma=1, kernel=rbf;, score=0.757 total time=   0.0s\n",
      "[CV 2/5] END .........C=10, gamma=1, kernel=rbf;, score=0.797 total time=   0.0s\n",
      "[CV 3/5] END .........C=10, gamma=1, kernel=rbf;, score=0.789 total time=   0.0s\n",
      "[CV 4/5] END .........C=10, gamma=1, kernel=rbf;, score=0.769 total time=   0.0s\n",
      "[CV 5/5] END .........C=10, gamma=1, kernel=rbf;, score=0.782 total time=   0.0s\n",
      "[CV 1/5] END ........C=10, gamma=10, kernel=rbf;, score=0.730 total time=   0.0s\n",
      "[CV 2/5] END ........C=10, gamma=10, kernel=rbf;, score=0.696 total time=   0.1s\n",
      "[CV 3/5] END ........C=10, gamma=10, kernel=rbf;, score=0.741 total time=   0.0s\n",
      "[CV 4/5] END ........C=10, gamma=10, kernel=rbf;, score=0.776 total time=   0.0s\n",
      "[CV 5/5] END ........C=10, gamma=10, kernel=rbf;, score=0.735 total time=   0.0s\n"
     ]
    }
   ],
   "source": [
    "from sklearn.model_selection import GridSearchCV\n",
    "param_grid={\"C\":[1,10],\"gamma\":[1,10],\"kernel\":[\"rbf\"]}\n",
    "g=GridSearchCV(svm,param_grid,verbose=3)\n",
    "g.fit(xtrain,ytrain)\n",
    "ypred=g.predict(xtest)"
   ]
  },
  {
   "cell_type": "code",
   "execution_count": 30,
   "id": "467b8363-ac1d-4bf6-9464-33c1c2ae5256",
   "metadata": {},
   "outputs": [
    {
     "name": "stdout",
     "output_type": "stream",
     "text": [
      "Best Score:  0.7964791321934179\n",
      "Best Parameters:  {'C': 1, 'gamma': 1, 'kernel': 'rbf'}\n"
     ]
    }
   ],
   "source": [
    "# Best parameters\n",
    "print(\"Best Score: \", g.best_score_) \n",
    "print(\"Best Parameters: \", g.best_params_)"
   ]
  },
  {
   "cell_type": "code",
   "execution_count": 31,
   "id": "055ca5c3-c955-41e8-a4d9-e26fca46c453",
   "metadata": {},
   "outputs": [
    {
     "name": "stdout",
     "output_type": "stream",
     "text": [
      "              precision    recall  f1-score   support\n",
      "\n",
      "           0       0.90      0.90      0.90       106\n",
      "           1       0.76      0.76      0.76        46\n",
      "\n",
      "    accuracy                           0.86       152\n",
      "   macro avg       0.83      0.83      0.83       152\n",
      "weighted avg       0.86      0.86      0.86       152\n",
      "\n"
     ]
    }
   ],
   "source": [
    "#Evaluating model for best parameters\n",
    "svm=g.best_estimator_\n",
    "svm.fit(xtrain,ytrain)\n",
    "ypred=svm.predict(xtest)\n",
    "print(classification_report(ytest,ypred))"
   ]
  },
  {
   "cell_type": "code",
   "execution_count": 32,
   "id": "3dbf9bfc-cfdd-41d7-a172-6fa136123f3c",
   "metadata": {},
   "outputs": [
    {
     "name": "stdout",
     "output_type": "stream",
     "text": [
      "Accuracy Score: 85.53% \n",
      " ---------- \n",
      " Confusion Matrix [[95 11]\n",
      " [11 35]] \n",
      " ---------- \n",
      " Classification Report               precision    recall  f1-score   support\n",
      "\n",
      "           0       0.90      0.90      0.90       106\n",
      "           1       0.76      0.76      0.76        46\n",
      "\n",
      "    accuracy                           0.86       152\n",
      "   macro avg       0.83      0.83      0.83       152\n",
      "weighted avg       0.86      0.86      0.86       152\n",
      "\n"
     ]
    }
   ],
   "source": [
    "# Evaluating model using sklearn metrics\n",
    "ac=round(accuracy_score(ytest,ypred)*100,2)\n",
    "cm=confusion_matrix(ytest,ypred)\n",
    "cr=classification_report(ytest,ypred)\n",
    "print(f'Accuracy Score: {ac}% \\n ---------- \\n Confusion Matrix {cm} \\n ---------- \\n Classification Report {cr}')"
   ]
  },
  {
   "cell_type": "markdown",
   "id": "73877eb1-971b-4d07-b2ff-dd0a3cb820bd",
   "metadata": {},
   "source": [
    "# Accuracy of this model is 85.53%"
   ]
  }
 ],
 "metadata": {
  "kernelspec": {
   "display_name": "Python 3 (ipykernel)",
   "language": "python",
   "name": "python3"
  },
  "language_info": {
   "codemirror_mode": {
    "name": "ipython",
    "version": 3
   },
   "file_extension": ".py",
   "mimetype": "text/x-python",
   "name": "python",
   "nbconvert_exporter": "python",
   "pygments_lexer": "ipython3",
   "version": "3.11.7"
  }
 },
 "nbformat": 4,
 "nbformat_minor": 5
}
